{
  "nbformat": 4,
  "nbformat_minor": 0,
  "metadata": {
    "colab": {
      "provenance": []
    },
    "kernelspec": {
      "name": "python3",
      "display_name": "Python 3"
    },
    "language_info": {
      "name": "python"
    }
  },
  "cells": [
    {
      "cell_type": "markdown",
      "source": [
        "# Project env init"
      ],
      "metadata": {
        "id": "6cvPYaWG11NI"
      }
    },
    {
      "cell_type": "code",
      "execution_count": null,
      "metadata": {
        "id": "zdmP9DkCS6xC"
      },
      "outputs": [],
      "source": [
        "!git clone https://github.com/smartbugs/smartbugs-curated"
      ]
    },
    {
      "cell_type": "code",
      "source": [
        "%cd smartbugs-curated/dataset/"
      ],
      "metadata": {
        "id": "CrtqEuUJTEYw"
      },
      "execution_count": null,
      "outputs": []
    },
    {
      "cell_type": "code",
      "source": [
        "!pip install --upgrade pip"
      ],
      "metadata": {
        "id": "35cktqEkTF4w"
      },
      "execution_count": null,
      "outputs": []
    },
    {
      "cell_type": "code",
      "source": [
        "!pip install tensorflow"
      ],
      "metadata": {
        "id": "l1zqkYH2TRX7"
      },
      "execution_count": null,
      "outputs": []
    },
    {
      "cell_type": "code",
      "source": [
        "!pip install py-solc-x"
      ],
      "metadata": {
        "id": "GZkOpAEaUp7T"
      },
      "execution_count": null,
      "outputs": []
    },
    {
      "cell_type": "code",
      "source": [
        "import solcx\n",
        "print(solcx.get_installable_solc_versions())"
      ],
      "metadata": {
        "id": "Fi6E-km3rpw6"
      },
      "execution_count": null,
      "outputs": []
    },
    {
      "cell_type": "markdown",
      "source": [
        "# Generate dataset"
      ],
      "metadata": {
        "id": "5DAKdkqj15Dy"
      }
    },
    {
      "cell_type": "code",
      "source": [
        "# Parse smart contract + generate image\n",
        "\n",
        "import re\n",
        "from pathlib import Path\n",
        "#from web3 import Web3\n",
        "from solcx import compile_source\n",
        "\n",
        "\n",
        "def find_pragma(contract):\n",
        "\n",
        "  PRAGMA_REGEX = re.compile(r'pragma\\s+solidity\\s+([^;]+);', re.IGNORECASE)\n",
        "  NUMERIC_VERSION_REGEX = re.compile(r'\\d+\\.\\d+\\.\\d+|\\d+\\.\\d+')\n",
        "\n",
        "  match = PRAGMA_REGEX.search(contract)\n",
        "  if not match:\n",
        "    raise ValueError('No pragma statement found')\n",
        "\n",
        "  raw_version = match.group(1).strip()\n",
        "  version_match = NUMERIC_VERSION_REGEX.search(raw_version)\n",
        "\n",
        "  if not version_match:\n",
        "    raise ValueError(f'Could not parse Solidity version from \"{raw_version}\"')\n",
        "\n",
        "  #print(version_match.group())\n",
        "  return version_match.group()\n",
        "\n",
        "\n",
        "def compile(contract, solidity_ver):\n",
        "  solcx.install_solc(solidity_ver)\n",
        "  solcx.set_solc_version(solidity_ver)\n",
        "\n",
        "  compiled = compile_source(\n",
        "      contract,\n",
        "      output_values=['bin']\n",
        "  )\n",
        "\n",
        "  return compiled\n",
        "\n"
      ],
      "metadata": {
        "id": "INktV_0VJ46t"
      },
      "execution_count": null,
      "outputs": []
    },
    {
      "cell_type": "code",
      "source": [
        "from PIL import Image\n",
        "import math\n",
        "\n",
        "def bytecode2img(bytecode, target_size=(256, 256)):\n",
        "\n",
        "    # Convert hex string to bytearray\n",
        "    data = bytearray.fromhex(bytecode)\n",
        "\n",
        "    # Determine initial image size\n",
        "    length = len(data)\n",
        "    width = int(math.sqrt(length))\n",
        "    height = math.ceil(length / width)\n",
        "\n",
        "    # Pad data if necessary to form a rectangle\n",
        "    while len(data) < width * height:\n",
        "        data.append(0)  # Pad with black pixels\n",
        "\n",
        "    # Create initial image\n",
        "    img = Image.frombytes('L', (width, height), bytes(data))\n",
        "\n",
        "    # Resize and crop/pad to target size\n",
        "    img = img.resize(target_size, Image.NEAREST)  # Resize, preserving aspect ratio\n",
        "    img = img.crop((0, 0, target_size[0], target_size[1]))  # Crop or pad to 256x256\n",
        "\n",
        "    return img"
      ],
      "metadata": {
        "id": "lwMB_-M8xH1A"
      },
      "execution_count": null,
      "outputs": []
    },
    {
      "cell_type": "code",
      "source": [
        "import os\n",
        "def gen_img(file):\n",
        "  path = Path(file).expanduser()\n",
        "\n",
        "  with open(path, 'r', encoding='utf-8', errors='ignore') as f:\n",
        "\n",
        "    contract = f.read()\n",
        "    contract_lines = contract.split('\\n')\n",
        "\n",
        "    solidity_ver = find_pragma(contract)\n",
        "\n",
        "    compiled = compile(contract, solidity_ver)\n",
        "\n",
        "  for contract, bin in compiled.items():\n",
        "    #print(f'contract: {contract}\\nbin: {bin}\\nbytecode: {bin[\"bin\"]}')\n",
        "    bytecode = bin['bin']\n",
        "    img = bytecode2img(bytecode)\n",
        "\n",
        "    # Create the directory if it doesn't exist\n",
        "    output_dir = os.path.join(path.parent.parent, path.parent.name + '_IMG')  # Use parent dir name\n",
        "    os.makedirs(output_dir, exist_ok=True)\n",
        "\n",
        "    # Save the image in the new directory\n",
        "    img_path = os.path.join(output_dir, contract.split(':')[1] + '.png')\n",
        "    img.save(img_path)"
      ],
      "metadata": {
        "id": "YEuf8OESzjni"
      },
      "execution_count": null,
      "outputs": []
    },
    {
      "cell_type": "code",
      "source": [
        "gen_img('./denial_of_service/auction.sol')"
      ],
      "metadata": {
        "id": "DfIl6e-hsWJn"
      },
      "execution_count": null,
      "outputs": []
    },
    {
      "cell_type": "code",
      "source": [
        "gen_img('./reentrancy/0x01f8c4e3fa3edeb29e514cba738d87ce8c091d3f.sol')"
      ],
      "metadata": {
        "id": "LLvrOAjC0_SA"
      },
      "execution_count": null,
      "outputs": []
    },
    {
      "cell_type": "code",
      "source": [
        "import os\n",
        "\n",
        "def process_sol_files(root_dir):\n",
        "  for dirpath, dirnames, filenames in os.walk(root_dir):\n",
        "    for filename in filenames:\n",
        "      if filename.endswith('.sol'):\n",
        "        file_path = os.path.join(dirpath, filename)\n",
        "        try:\n",
        "          gen_img(file_path)\n",
        "          print(f'Processed: {file_path}')\n",
        "        except Exception as e:\n",
        "          print(f'Error processing {file_path}: {e}')"
      ],
      "metadata": {
        "id": "yWw4VYFD2cdM"
      },
      "execution_count": null,
      "outputs": []
    },
    {
      "cell_type": "code",
      "source": [
        "dataset_dir = './'\n",
        "process_sol_files(dataset_dir)"
      ],
      "metadata": {
        "id": "8Oop0n3L2rkD"
      },
      "execution_count": null,
      "outputs": []
    },
    {
      "cell_type": "code",
      "source": [
        "def remove_png_files():\n",
        "  for filename in os.listdir():\n",
        "    if filename.endswith('.png'):\n",
        "      try:\n",
        "        os.remove(filename)\n",
        "        print(f'Removed: {filename}')\n",
        "      except OSError as e:\n",
        "        print(f'Error removing {filename}: {e}')\n",
        "\n",
        "remove_png_files()"
      ],
      "metadata": {
        "id": "S9DqbUhD28gF"
      },
      "execution_count": null,
      "outputs": []
    }
  ]
}